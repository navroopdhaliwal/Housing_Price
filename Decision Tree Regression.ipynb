{
 "cells": [
  {
   "cell_type": "code",
   "execution_count": 1,
   "metadata": {},
   "outputs": [],
   "source": [
    "import pandas as pd"
   ]
  },
  {
   "cell_type": "code",
   "execution_count": 2,
   "metadata": {},
   "outputs": [
    {
     "data": {
      "text/plain": [
       "'C:\\\\Users\\\\dnavr\\\\Desktop\\\\Data Science'"
      ]
     },
     "execution_count": 2,
     "metadata": {},
     "output_type": "execute_result"
    }
   ],
   "source": [
    "pwd\n"
   ]
  },
  {
   "cell_type": "code",
   "execution_count": 20,
   "metadata": {},
   "outputs": [],
   "source": [
    "#We first import the file that containes the data.\n",
    "file_path = r'C:\\Users\\dnavr\\Desktop\\Data Science\\melb_data.csv\\melb_data_C.csv'\n",
    "file_data = pd.read_csv(file_path)\n",
    "# Then we set the variable that will contain what needs to be predicted. In this case the\n",
    "# price of the houses\n",
    "y = file_data[\"Price\"]\n",
    "# Then we set the features that will help the system to learn the factors contributing to the\n",
    "# prediction\n",
    "features = ['Rooms', 'Bathroom', 'Landsize', 'Lattitude', 'Longtitude']\n",
    "X = file_data[features]\n",
    "\n",
    "    \n",
    "    "
   ]
  },
  {
   "cell_type": "code",
   "execution_count": 30,
   "metadata": {},
   "outputs": [
    {
     "name": "stdout",
     "output_type": "stream",
     "text": [
      "The error between the training and the validation model is 202952.5355510505\n"
     ]
    }
   ],
   "source": [
    "# Now, we need to train our data and test its validity before we use it to actually predict something\n",
    "# 80 % of the data will be used to train and rest 20 % will be used to validate.\n",
    "\n",
    "from sklearn.model_selection import train_test_split\n",
    "from sklearn.metrics import mean_absolute_error\n",
    "\n",
    "train_X, val_X, train_y, val_y = train_test_split(X,y,test_size = 0.20, random_state = 0)\n",
    "# We will use random forest regressor.\n",
    "    \n",
    "from sklearn.ensemble import RandomForestRegressor\n",
    "model_1 = RandomForestRegressor(n_estimators=40,max_depth=10, criterion='mae', random_state=0)\n",
    "model_1.fit(train_X,train_y)\n",
    "predict = model_1.predict(val_X)\n",
    "print('The error between the training and the validation model is', mean_absolute_error(val_y, predict))\n"
   ]
  },
  {
   "cell_type": "code",
   "execution_count": 29,
   "metadata": {},
   "outputs": [
    {
     "name": "stdout",
     "output_type": "stream",
     "text": [
      "[1610770.     1193137.5    1236162.5     645806.25   1283955.\n",
      " 1234867.5    1162543.75   1068531.2125 1013084.975   964176.25\n",
      " 1066012.475   521981.25    555368.75    524743.75   1293438.75\n",
      " 1098318.75   1303856.25   2748925.     1031317.5   ]\n"
     ]
    }
   ],
   "source": [
    "# Now we will predict some values of new data.\n",
    "new_data = r'C:\\Users\\dnavr\\Desktop\\Data Science\\melb_data.csv\\Melb_data_test_NP.csv'\n",
    "new_data_open = pd.read_csv(new_data)\n",
    "X_new = new_data_open[features]\n",
    "#print(X_new)\n",
    "predict_new = model_1.predict(X_new)\n",
    "print(predict_new)"
   ]
  }
 ],
 "metadata": {
  "kernelspec": {
   "display_name": "Python 3",
   "language": "python",
   "name": "python3"
  },
  "language_info": {
   "codemirror_mode": {
    "name": "ipython",
    "version": 3
   },
   "file_extension": ".py",
   "mimetype": "text/x-python",
   "name": "python",
   "nbconvert_exporter": "python",
   "pygments_lexer": "ipython3",
   "version": "3.7.1"
  }
 },
 "nbformat": 4,
 "nbformat_minor": 2
}
